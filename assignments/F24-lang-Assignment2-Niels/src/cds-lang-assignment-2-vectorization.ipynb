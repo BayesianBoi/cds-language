{
 "cells": [
  {
   "cell_type": "markdown",
   "metadata": {},
   "source": [
    "# Vectorization of fake news data set"
   ]
  },
  {
   "cell_type": "markdown",
   "metadata": {},
   "source": [
    "### Loading packages"
   ]
  },
  {
   "cell_type": "code",
   "execution_count": 11,
   "metadata": {},
   "outputs": [],
   "source": [
    "import pandas as pd\n",
    "from sklearn.feature_extraction.text import TfidfVectorizer # used for the actual vectorization\n",
    "import joblib # used for exporting the models "
   ]
  },
  {
   "cell_type": "code",
   "execution_count": 18,
   "metadata": {},
   "outputs": [],
   "source": [
    "# path to the fake news corpus\n",
    "main_file = (\"..\" \"/in/fake_or_real_news.csv\") \n",
    "\n",
    "# output folder for the vectorization models \n",
    "model_output_folder = (\"..\" \"/models/\")"
   ]
  },
  {
   "cell_type": "code",
   "execution_count": null,
   "metadata": {},
   "outputs": [],
   "source": [
    "# loading the fake news corpus as data frame\n",
    "df = pd.read_csv(main_folder)\n",
    "\n",
    "# splitting the df based on the and the label\n",
    "X = df['text'] \n",
    "y = df['label']"
   ]
  },
  {
   "cell_type": "markdown",
   "metadata": {},
   "source": [
    "### Vectorizing the data\n",
    "Does the following:\n",
    "- Unigrams and bigrams (1, 2)\n",
    "- Make everything lowercase;\n",
    "- Removes the top and bottom 5% of words\n",
    "- Keep the top 500 features"
   ]
  },
  {
   "cell_type": "code",
   "execution_count": 13,
   "metadata": {},
   "outputs": [],
   "source": [
    "# specifying the vectorizer\n",
    "vectorizer = TfidfVectorizer(ngram_range=(1, 2), lowercase=True, max_df=0.95, min_df=0.05, max_features=500)\n",
    "\n",
    "# applying the vectorizer only to the text data (X)\n",
    "X_transformed = vectorizer.fit_transform(X)"
   ]
  },
  {
   "cell_type": "code",
   "execution_count": 19,
   "metadata": {},
   "outputs": [
    {
     "data": {
      "text/plain": [
       "['../models/vectorizer.pkl']"
      ]
     },
     "execution_count": 19,
     "metadata": {},
     "output_type": "execute_result"
    }
   ],
   "source": [
    "# saving the transformed dataset and vectorizer model\n",
    "joblib.dump((X_transformed, y), model_output_folder + \"vectorized_fake_news_data.pkl\")\n",
    "joblib.dump(vectorizer, model_output_folder+ \"vectorizer.pkl\")"
   ]
  }
 ],
 "metadata": {
  "kernelspec": {
   "display_name": "Python 3",
   "language": "python",
   "name": "python3"
  },
  "language_info": {
   "codemirror_mode": {
    "name": "ipython",
    "version": 3
   },
   "file_extension": ".py",
   "mimetype": "text/x-python",
   "name": "python",
   "nbconvert_exporter": "python",
   "pygments_lexer": "ipython3",
   "version": "3.10.12"
  }
 },
 "nbformat": 4,
 "nbformat_minor": 2
}
